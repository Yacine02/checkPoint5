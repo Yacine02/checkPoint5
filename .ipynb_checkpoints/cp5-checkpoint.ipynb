{
 "cells": [
  {
   "cell_type": "markdown",
   "id": "e8ce2788",
   "metadata": {},
   "source": [
    "# Importations"
   ]
  },
  {
   "cell_type": "code",
   "execution_count": 1,
   "id": "0d5dabcd",
   "metadata": {},
   "outputs": [],
   "source": [
    "import pandas as pd\n",
    "import matplotlib.pyplot as plt\n",
    "import seaborn as sns\n",
    "from sklearn.model_selection import train_test_split\n",
    "from sklearn.linear_model import LogisticRegression\n",
    "from sklearn import metrics\n",
    "from sklearn.metrics import classification_report\n",
    "from sklearn.metrics import roc_curve\n",
    "from sklearn.metrics import roc_auc_score"
   ]
  },
  {
   "cell_type": "code",
   "execution_count": 2,
   "id": "2ae455c5",
   "metadata": {},
   "outputs": [],
   "source": [
    "titanic = pd.read_csv('titanic-passengers.csv', sep=';')#retrieving data from titanic-passengers.csv in a pandas dataframe \n",
    "titanic_copy = titanic.copy()# make a copy"
   ]
  },
  {
   "cell_type": "markdown",
   "id": "be1a30c0",
   "metadata": {},
   "source": [
    "# Prétaitement"
   ]
  },
  {
   "cell_type": "markdown",
   "id": "501331f1",
   "metadata": {},
   "source": [
    "# Nettoyage"
   ]
  },
  {
   "cell_type": "code",
   "execution_count": 3,
   "id": "abdc7b88",
   "metadata": {},
   "outputs": [
    {
     "data": {
      "text/html": [
       "<div>\n",
       "<style scoped>\n",
       "    .dataframe tbody tr th:only-of-type {\n",
       "        vertical-align: middle;\n",
       "    }\n",
       "\n",
       "    .dataframe tbody tr th {\n",
       "        vertical-align: top;\n",
       "    }\n",
       "\n",
       "    .dataframe thead th {\n",
       "        text-align: right;\n",
       "    }\n",
       "</style>\n",
       "<table border=\"1\" class=\"dataframe\">\n",
       "  <thead>\n",
       "    <tr style=\"text-align: right;\">\n",
       "      <th></th>\n",
       "      <th>PassengerId</th>\n",
       "      <th>Survived</th>\n",
       "      <th>Pclass</th>\n",
       "      <th>Name</th>\n",
       "      <th>Sex</th>\n",
       "      <th>Age</th>\n",
       "      <th>SibSp</th>\n",
       "      <th>Parch</th>\n",
       "      <th>Ticket</th>\n",
       "      <th>Fare</th>\n",
       "      <th>Cabin</th>\n",
       "      <th>Embarked</th>\n",
       "    </tr>\n",
       "  </thead>\n",
       "  <tbody>\n",
       "    <tr>\n",
       "      <th>0</th>\n",
       "      <td>343</td>\n",
       "      <td>No</td>\n",
       "      <td>2</td>\n",
       "      <td>Collander, Mr. Erik Gustaf</td>\n",
       "      <td>male</td>\n",
       "      <td>28.0</td>\n",
       "      <td>0</td>\n",
       "      <td>0</td>\n",
       "      <td>248740</td>\n",
       "      <td>13.0000</td>\n",
       "      <td>NaN</td>\n",
       "      <td>S</td>\n",
       "    </tr>\n",
       "    <tr>\n",
       "      <th>1</th>\n",
       "      <td>76</td>\n",
       "      <td>No</td>\n",
       "      <td>3</td>\n",
       "      <td>Moen, Mr. Sigurd Hansen</td>\n",
       "      <td>male</td>\n",
       "      <td>25.0</td>\n",
       "      <td>0</td>\n",
       "      <td>0</td>\n",
       "      <td>348123</td>\n",
       "      <td>7.6500</td>\n",
       "      <td>F G73</td>\n",
       "      <td>S</td>\n",
       "    </tr>\n",
       "    <tr>\n",
       "      <th>2</th>\n",
       "      <td>641</td>\n",
       "      <td>No</td>\n",
       "      <td>3</td>\n",
       "      <td>Jensen, Mr. Hans Peder</td>\n",
       "      <td>male</td>\n",
       "      <td>20.0</td>\n",
       "      <td>0</td>\n",
       "      <td>0</td>\n",
       "      <td>350050</td>\n",
       "      <td>7.8542</td>\n",
       "      <td>NaN</td>\n",
       "      <td>S</td>\n",
       "    </tr>\n",
       "    <tr>\n",
       "      <th>3</th>\n",
       "      <td>568</td>\n",
       "      <td>No</td>\n",
       "      <td>3</td>\n",
       "      <td>Palsson, Mrs. Nils (Alma Cornelia Berglund)</td>\n",
       "      <td>female</td>\n",
       "      <td>29.0</td>\n",
       "      <td>0</td>\n",
       "      <td>4</td>\n",
       "      <td>349909</td>\n",
       "      <td>21.0750</td>\n",
       "      <td>NaN</td>\n",
       "      <td>S</td>\n",
       "    </tr>\n",
       "    <tr>\n",
       "      <th>4</th>\n",
       "      <td>672</td>\n",
       "      <td>No</td>\n",
       "      <td>1</td>\n",
       "      <td>Davidson, Mr. Thornton</td>\n",
       "      <td>male</td>\n",
       "      <td>31.0</td>\n",
       "      <td>1</td>\n",
       "      <td>0</td>\n",
       "      <td>F.C. 12750</td>\n",
       "      <td>52.0000</td>\n",
       "      <td>B71</td>\n",
       "      <td>S</td>\n",
       "    </tr>\n",
       "  </tbody>\n",
       "</table>\n",
       "</div>"
      ],
      "text/plain": [
       "   PassengerId Survived  Pclass                                         Name  \\\n",
       "0          343       No       2                   Collander, Mr. Erik Gustaf   \n",
       "1           76       No       3                      Moen, Mr. Sigurd Hansen   \n",
       "2          641       No       3                       Jensen, Mr. Hans Peder   \n",
       "3          568       No       3  Palsson, Mrs. Nils (Alma Cornelia Berglund)   \n",
       "4          672       No       1                       Davidson, Mr. Thornton   \n",
       "\n",
       "      Sex   Age  SibSp  Parch      Ticket     Fare  Cabin Embarked  \n",
       "0    male  28.0      0      0      248740  13.0000    NaN        S  \n",
       "1    male  25.0      0      0      348123   7.6500  F G73        S  \n",
       "2    male  20.0      0      0      350050   7.8542    NaN        S  \n",
       "3  female  29.0      0      4      349909  21.0750    NaN        S  \n",
       "4    male  31.0      1      0  F.C. 12750  52.0000    B71        S  "
      ]
     },
     "execution_count": 3,
     "metadata": {},
     "output_type": "execute_result"
    }
   ],
   "source": [
    "titanic.head()#display the header of my dataframe"
   ]
  },
  {
   "cell_type": "code",
   "execution_count": 4,
   "id": "047378e0",
   "metadata": {},
   "outputs": [
    {
     "data": {
      "text/plain": [
       "PassengerId      0\n",
       "Survived         0\n",
       "Pclass           0\n",
       "Name             0\n",
       "Sex              0\n",
       "Age            177\n",
       "SibSp            0\n",
       "Parch            0\n",
       "Ticket           0\n",
       "Fare             0\n",
       "Cabin          687\n",
       "Embarked         2\n",
       "dtype: int64"
      ]
     },
     "execution_count": 4,
     "metadata": {},
     "output_type": "execute_result"
    }
   ],
   "source": [
    "titanic.isnull().sum()#display the number of missing data in each column"
   ]
  },
  {
   "cell_type": "code",
   "execution_count": 5,
   "id": "2bb3823f",
   "metadata": {},
   "outputs": [],
   "source": [
    "titanic['Age'].fillna(titanic['Age'].mean(), inplace=True )#replace missing values in the Age column with the mean"
   ]
  },
  {
   "cell_type": "code",
   "execution_count": 6,
   "id": "e8988f69",
   "metadata": {},
   "outputs": [],
   "source": [
    "titanic['Cabin'].fillna(titanic['Cabin'].mode()[0], inplace=True )#replace missing values in the Cabin column with the mode"
   ]
  },
  {
   "cell_type": "code",
   "execution_count": 7,
   "id": "46edccb8",
   "metadata": {},
   "outputs": [],
   "source": [
    "titanic['Embarked'].fillna(titanic['Embarked'].mode()[0], inplace=True )#replace missing values in the Embarked column with the mode"
   ]
  },
  {
   "cell_type": "code",
   "execution_count": 8,
   "id": "5ed46238",
   "metadata": {},
   "outputs": [
    {
     "data": {
      "text/plain": [
       "PassengerId    0\n",
       "Survived       0\n",
       "Pclass         0\n",
       "Name           0\n",
       "Sex            0\n",
       "Age            0\n",
       "SibSp          0\n",
       "Parch          0\n",
       "Ticket         0\n",
       "Fare           0\n",
       "Cabin          0\n",
       "Embarked       0\n",
       "dtype: int64"
      ]
     },
     "execution_count": 8,
     "metadata": {},
     "output_type": "execute_result"
    }
   ],
   "source": [
    "titanic.isnull().sum()"
   ]
  },
  {
   "cell_type": "markdown",
   "id": "4cae200b",
   "metadata": {},
   "source": [
    "# Transformation"
   ]
  },
  {
   "cell_type": "code",
   "execution_count": 9,
   "id": "10f12776",
   "metadata": {},
   "outputs": [],
   "source": [
    "Survivived_dict = { \"Yes\":1, \"No\":0}#Replace categorical values Yes and No with numeric values 1 and 0\n",
    "titanic['Survived'].replace(Survivived_dict, inplace=True)#insert it in the dataframe"
   ]
  },
  {
   "cell_type": "code",
   "execution_count": 10,
   "id": "e0d2e904",
   "metadata": {},
   "outputs": [
    {
     "data": {
      "text/html": [
       "<div>\n",
       "<style scoped>\n",
       "    .dataframe tbody tr th:only-of-type {\n",
       "        vertical-align: middle;\n",
       "    }\n",
       "\n",
       "    .dataframe tbody tr th {\n",
       "        vertical-align: top;\n",
       "    }\n",
       "\n",
       "    .dataframe thead th {\n",
       "        text-align: right;\n",
       "    }\n",
       "</style>\n",
       "<table border=\"1\" class=\"dataframe\">\n",
       "  <thead>\n",
       "    <tr style=\"text-align: right;\">\n",
       "      <th></th>\n",
       "      <th>PassengerId</th>\n",
       "      <th>Survived</th>\n",
       "      <th>Pclass</th>\n",
       "      <th>Name</th>\n",
       "      <th>Sex</th>\n",
       "      <th>Age</th>\n",
       "      <th>SibSp</th>\n",
       "      <th>Parch</th>\n",
       "      <th>Ticket</th>\n",
       "      <th>Fare</th>\n",
       "      <th>Cabin</th>\n",
       "      <th>Embarked</th>\n",
       "    </tr>\n",
       "  </thead>\n",
       "  <tbody>\n",
       "    <tr>\n",
       "      <th>0</th>\n",
       "      <td>343</td>\n",
       "      <td>0</td>\n",
       "      <td>2</td>\n",
       "      <td>Collander, Mr. Erik Gustaf</td>\n",
       "      <td>1</td>\n",
       "      <td>28.0</td>\n",
       "      <td>0</td>\n",
       "      <td>0</td>\n",
       "      <td>248740</td>\n",
       "      <td>13.0000</td>\n",
       "      <td>B96 B98</td>\n",
       "      <td>S</td>\n",
       "    </tr>\n",
       "    <tr>\n",
       "      <th>1</th>\n",
       "      <td>76</td>\n",
       "      <td>0</td>\n",
       "      <td>3</td>\n",
       "      <td>Moen, Mr. Sigurd Hansen</td>\n",
       "      <td>1</td>\n",
       "      <td>25.0</td>\n",
       "      <td>0</td>\n",
       "      <td>0</td>\n",
       "      <td>348123</td>\n",
       "      <td>7.6500</td>\n",
       "      <td>F G73</td>\n",
       "      <td>S</td>\n",
       "    </tr>\n",
       "    <tr>\n",
       "      <th>2</th>\n",
       "      <td>641</td>\n",
       "      <td>0</td>\n",
       "      <td>3</td>\n",
       "      <td>Jensen, Mr. Hans Peder</td>\n",
       "      <td>1</td>\n",
       "      <td>20.0</td>\n",
       "      <td>0</td>\n",
       "      <td>0</td>\n",
       "      <td>350050</td>\n",
       "      <td>7.8542</td>\n",
       "      <td>B96 B98</td>\n",
       "      <td>S</td>\n",
       "    </tr>\n",
       "    <tr>\n",
       "      <th>3</th>\n",
       "      <td>568</td>\n",
       "      <td>0</td>\n",
       "      <td>3</td>\n",
       "      <td>Palsson, Mrs. Nils (Alma Cornelia Berglund)</td>\n",
       "      <td>0</td>\n",
       "      <td>29.0</td>\n",
       "      <td>0</td>\n",
       "      <td>4</td>\n",
       "      <td>349909</td>\n",
       "      <td>21.0750</td>\n",
       "      <td>B96 B98</td>\n",
       "      <td>S</td>\n",
       "    </tr>\n",
       "    <tr>\n",
       "      <th>4</th>\n",
       "      <td>672</td>\n",
       "      <td>0</td>\n",
       "      <td>1</td>\n",
       "      <td>Davidson, Mr. Thornton</td>\n",
       "      <td>1</td>\n",
       "      <td>31.0</td>\n",
       "      <td>1</td>\n",
       "      <td>0</td>\n",
       "      <td>F.C. 12750</td>\n",
       "      <td>52.0000</td>\n",
       "      <td>B71</td>\n",
       "      <td>S</td>\n",
       "    </tr>\n",
       "  </tbody>\n",
       "</table>\n",
       "</div>"
      ],
      "text/plain": [
       "   PassengerId  Survived  Pclass                                         Name  \\\n",
       "0          343         0       2                   Collander, Mr. Erik Gustaf   \n",
       "1           76         0       3                      Moen, Mr. Sigurd Hansen   \n",
       "2          641         0       3                       Jensen, Mr. Hans Peder   \n",
       "3          568         0       3  Palsson, Mrs. Nils (Alma Cornelia Berglund)   \n",
       "4          672         0       1                       Davidson, Mr. Thornton   \n",
       "\n",
       "   Sex   Age  SibSp  Parch      Ticket     Fare    Cabin Embarked  \n",
       "0    1  28.0      0      0      248740  13.0000  B96 B98        S  \n",
       "1    1  25.0      0      0      348123   7.6500    F G73        S  \n",
       "2    1  20.0      0      0      350050   7.8542  B96 B98        S  \n",
       "3    0  29.0      0      4      349909  21.0750  B96 B98        S  \n",
       "4    1  31.0      1      0  F.C. 12750  52.0000      B71        S  "
      ]
     },
     "execution_count": 10,
     "metadata": {},
     "output_type": "execute_result"
    }
   ],
   "source": [
    "sex_dict = { \"male\":1, \"female\":0}#Replace categorical values male and female with numeric values 1 and 0\n",
    "titanic['Sex'].replace(sex_dict, inplace=True)#insert it in the dataframe\n",
    "titanic.head()"
   ]
  },
  {
   "cell_type": "markdown",
   "id": "18a5c13f",
   "metadata": {},
   "source": [
    "# Sélection des fonctionnalités"
   ]
  },
  {
   "cell_type": "code",
   "execution_count": 11,
   "id": "9f14642c",
   "metadata": {},
   "outputs": [],
   "source": [
    "def plot_correlation_map( df ):\n",
    "\n",
    "    corr = df.corr()\n",
    "\n",
    "    s , ax = plt.subplots( figsize =( 12 , 10 ) )\n",
    "\n",
    "    cmap = sns.diverging_palette( 220 , 10 , as_cmap = True )\n",
    "\n",
    "    s = sns.heatmap(\n",
    "\n",
    "        corr, \n",
    "\n",
    "        cmap = cmap,\n",
    "\n",
    "        square=True, \n",
    "\n",
    "        cbar_kws={ 'shrink' : .9 }, \n",
    "\n",
    "        ax=ax, \n",
    "\n",
    "        annot = True, \n",
    "\n",
    "        annot_kws = { 'fontsize' : 12 }\n",
    "\n",
    "        )"
   ]
  },
  {
   "cell_type": "code",
   "execution_count": 12,
   "id": "347dd442",
   "metadata": {},
   "outputs": [
    {
     "data": {
      "image/png": "[encoded data removed]",
      "text/plain": [
       "<Figure size 864x720 with 2 Axes>"
      ]
     },
     "metadata": {
      "needs_background": "light"
     },
     "output_type": "display_data"
    }
   ],
   "source": [
    "plot_correlation_map( titanic )#display the correlation between my data"
   ]
  },
  {
   "cell_type": "markdown",
   "id": "a4628293",
   "metadata": {},
   "source": [
    "Nous remarquons que les colonnes qui ont une meilleur corrélation avec celle de la survie sont l’âge, le sexe, la Pclass, et le tarif qui est lié à la Pclass.Donc nous sélectionnerons les trois colonnes suivantes pour la suite de notre analyse: Age, Sex et Pclass"
   ]
  },
  {
   "cell_type": "code",
   "execution_count": 13,
   "id": "05aa8774",
   "metadata": {},
   "outputs": [],
   "source": [
    "titanic.drop('PassengerId', axis=1, inplace=True)#drop the PassengerId column"
   ]
  },
  {
   "cell_type": "code",
   "execution_count": 14,
   "id": "f152a57a",
   "metadata": {},
   "outputs": [],
   "source": [
    "titanic.drop('Name', axis=1, inplace=True)#drop the Name column"
   ]
  },
  {
   "cell_type": "code",
   "execution_count": 15,
   "id": "7ca874aa",
   "metadata": {},
   "outputs": [],
   "source": [
    "titanic.drop('SibSp', axis=1, inplace=True)#drop the SibSp column"
   ]
  },
  {
   "cell_type": "code",
   "execution_count": 16,
   "id": "1e6db763",
   "metadata": {},
   "outputs": [],
   "source": [
    "titanic.drop('Parch', axis=1, inplace=True)#drop the Parch column"
   ]
  },
  {
   "cell_type": "code",
   "execution_count": 17,
   "id": "bf53318d",
   "metadata": {},
   "outputs": [],
   "source": [
    "titanic.drop('Ticket', axis=1, inplace=True)#drop the Ticket column"
   ]
  },
  {
   "cell_type": "code",
   "execution_count": 18,
   "id": "c20b2118",
   "metadata": {},
   "outputs": [],
   "source": [
    "titanic.drop('Fare', axis=1, inplace=True)#drop the Fare column"
   ]
  },
  {
   "cell_type": "code",
   "execution_count": 19,
   "id": "bae24942",
   "metadata": {},
   "outputs": [],
   "source": [
    "titanic.drop('Cabin', axis=1, inplace=True)#drop the Cabin column"
   ]
  },
  {
   "cell_type": "code",
   "execution_count": 20,
   "id": "1edec2f5",
   "metadata": {},
   "outputs": [],
   "source": [
    "titanic.drop('Embarked', axis=1, inplace=True)#drop the Embarked column"
   ]
  },
  {
   "cell_type": "code",
   "execution_count": 21,
   "id": "1b31adcf",
   "metadata": {},
   "outputs": [
    {
     "data": {
      "text/html": [
       "<div>\n",
       "<style scoped>\n",
       "    .dataframe tbody tr th:only-of-type {\n",
       "        vertical-align: middle;\n",
       "    }\n",
       "\n",
       "    .dataframe tbody tr th {\n",
       "        vertical-align: top;\n",
       "    }\n",
       "\n",
       "    .dataframe thead th {\n",
       "        text-align: right;\n",
       "    }\n",
       "</style>\n",
       "<table border=\"1\" class=\"dataframe\">\n",
       "  <thead>\n",
       "    <tr style=\"text-align: right;\">\n",
       "      <th></th>\n",
       "      <th>Survived</th>\n",
       "      <th>Pclass</th>\n",
       "      <th>Sex</th>\n",
       "      <th>Age</th>\n",
       "    </tr>\n",
       "  </thead>\n",
       "  <tbody>\n",
       "    <tr>\n",
       "      <th>0</th>\n",
       "      <td>0</td>\n",
       "      <td>2</td>\n",
       "      <td>1</td>\n",
       "      <td>28.0</td>\n",
       "    </tr>\n",
       "    <tr>\n",
       "      <th>1</th>\n",
       "      <td>0</td>\n",
       "      <td>3</td>\n",
       "      <td>1</td>\n",
       "      <td>25.0</td>\n",
       "    </tr>\n",
       "    <tr>\n",
       "      <th>2</th>\n",
       "      <td>0</td>\n",
       "      <td>3</td>\n",
       "      <td>1</td>\n",
       "      <td>20.0</td>\n",
       "    </tr>\n",
       "    <tr>\n",
       "      <th>3</th>\n",
       "      <td>0</td>\n",
       "      <td>3</td>\n",
       "      <td>0</td>\n",
       "      <td>29.0</td>\n",
       "    </tr>\n",
       "    <tr>\n",
       "      <th>4</th>\n",
       "      <td>0</td>\n",
       "      <td>1</td>\n",
       "      <td>1</td>\n",
       "      <td>31.0</td>\n",
       "    </tr>\n",
       "  </tbody>\n",
       "</table>\n",
       "</div>"
      ],
      "text/plain": [
       "   Survived  Pclass  Sex   Age\n",
       "0         0       2    1  28.0\n",
       "1         0       3    1  25.0\n",
       "2         0       3    1  20.0\n",
       "3         0       3    0  29.0\n",
       "4         0       1    1  31.0"
      ]
     },
     "execution_count": 21,
     "metadata": {},
     "output_type": "execute_result"
    }
   ],
   "source": [
    "titanic.head()"
   ]
  },
  {
   "cell_type": "markdown",
   "id": "1a362441",
   "metadata": {},
   "source": [
    "# Appliquons la régression logistique"
   ]
  },
  {
   "cell_type": "code",
   "execution_count": 22,
   "id": "74d0278a",
   "metadata": {},
   "outputs": [],
   "source": [
    "#features extraction\n",
    "x = titanic[['Pclass', 'Sex','Age']]\n",
    "y = titanic['Survived']\n",
    "\n",
    "x_train,x_test,y_train,y_test = train_test_split(x,y,test_size=0.25,random_state=0)#splitting data with test size of 25%"
   ]
  },
  {
   "cell_type": "code",
   "execution_count": 23,
   "id": "d5829d7d",
   "metadata": {},
   "outputs": [
    {
     "name": "stdout",
     "output_type": "stream",
     "text": [
      "Accuracy=0.81\n"
     ]
    }
   ],
   "source": [
    "logreg = LogisticRegression()   #build our logistic model\n",
    "logreg.fit(x_train, y_train)  #fitting training data\n",
    "y_pred  = logreg.predict(x_test)    #testing model’s performance\n",
    "print(\"Accuracy={:.2f}\".format(logreg.score(x_test, y_test)))"
   ]
  },
  {
   "cell_type": "markdown",
   "id": "212ddeb7",
   "metadata": {},
   "source": [
    "# Utilisons une matrice de confusion pour valider le modèle."
   ]
  },
  {
   "cell_type": "code",
   "execution_count": 24,
   "id": "3efca30c",
   "metadata": {
    "scrolled": true
   },
   "outputs": [
    {
     "data": {
      "text/plain": [
       "<AxesSubplot:xlabel='Predicted', ylabel='Actual'>"
      ]
     },
     "execution_count": 24,
     "metadata": {},
     "output_type": "execute_result"
    },
    {
     "data": {
      "image/png": "[encoded data removed]",
      "text/plain": [
       "<Figure size 432x288 with 2 Axes>"
      ]
     },
     "metadata": {
      "needs_background": "light"
     },
     "output_type": "display_data"
    }
   ],
   "source": [
    "#matrix construction\n",
    "confusion_matrix = pd.crosstab(y_test, y_pred, rownames=['Actual'], colnames=['Predicted'])\n",
    "sns.heatmap(confusion_matrix, annot=True, fmt='d', cmap='PuBu')"
   ]
  },
  {
   "cell_type": "code",
   "execution_count": 25,
   "id": "101d34b5",
   "metadata": {},
   "outputs": [
    {
     "name": "stdout",
     "output_type": "stream",
     "text": [
      "              precision    recall  f1-score   support\n",
      "\n",
      "           0       0.85      0.85      0.85       144\n",
      "           1       0.73      0.72      0.73        79\n",
      "\n",
      "    accuracy                           0.81       223\n",
      "   macro avg       0.79      0.79      0.79       223\n",
      "weighted avg       0.81      0.81      0.81       223\n",
      "\n"
     ]
    }
   ],
   "source": [
    "print(classification_report(y_test,y_pred))#classification report"
   ]
  },
  {
   "cell_type": "markdown",
   "id": "bbbe632b",
   "metadata": {},
   "source": [
    "#  Une autre matrice de validation pour la classification est ROC / AUC"
   ]
  },
  {
   "cell_type": "markdown",
   "id": "50221ff4",
   "metadata": {},
   "source": [
    "Une courbe ROC (receiver operating characteristic curve)est un graphique montrant les performances d’un modèle de classification à tous les seuils de classification. Cette courbe représente deux paramètres :\n",
    "\n",
    "-Taux de vrai positifs TPR, Taux de faux positifs FPR\n",
    "\n",
    "La courbe ROC est générée en traçant TPR vs FPR"
   ]
  },
  {
   "cell_type": "code",
   "execution_count": 28,
   "id": "580d7198",
   "metadata": {},
   "outputs": [
    {
     "data": {
      "text/plain": [
       "Text(0, 0.5, 'TPR')"
      ]
     },
     "execution_count": 28,
     "metadata": {},
     "output_type": "execute_result"
    },
    {
     "data": {
      "image/png": "[encoded data removed]",
      "text/plain": [
       "<Figure size 576x432 with 1 Axes>"
      ]
     },
     "metadata": {
      "needs_background": "light"
     },
     "output_type": "display_data"
    }
   ],
   "source": [
    "y_pred = logreg.predict_proba(x_test)[:, 1]\n",
    "FPR, TPR, thresh = roc_curve(y_test, y_pred, pos_label = True)\n",
    "\n",
    "plt.figure(figsize=(8,6))\n",
    "plt.plot(FPR, TPR, linewidth=1)\n",
    "plt.plot([0,1], [0,1], 'k--' )\n",
    "plt.rcParams['font.size'] = 10\n",
    "plt.title('ROC curve')\n",
    "plt.xlabel('FPR')\n",
    "plt.ylabel('TPR')"
   ]
  },
  {
   "cell_type": "markdown",
   "id": "93ba06db",
   "metadata": {},
   "source": [
    "AUC signifie « Area under the ROC Curve » (Aire sous la courbe ROC). C’est-à-dire que l’AUC mesure toute la zone bidimensionnelle sous toute la courbe ROC.\n",
    "\n",
    "La valeur de l’AUC varie de 0 à 1. Un modèle dont les prédictions sont erronées à 100 % a une AUC de 0,0 ; celui dont les prédictions sont correctes à 100% a une AUC de 1,0."
   ]
  },
  {
   "cell_type": "code",
   "execution_count": 30,
   "id": "bd70df81",
   "metadata": {},
   "outputs": [
    {
     "name": "stdout",
     "output_type": "stream",
     "text": [
      "AUC: 0.8415963431786216\n"
     ]
    }
   ],
   "source": [
    "AUC = roc_auc_score(y_test, y_pred)\n",
    "print(\"AUC:\",AUC)"
   ]
  },
  {
   "cell_type": "code",
   "execution_count": null,
   "id": "b26fc97a",
   "metadata": {},
   "outputs": [],
   "source": []
  }
 ],
 "metadata": {
  "kernelspec": {
   "display_name": "Python 3",
   "language": "python",
   "name": "python3"
  },
  "language_info": {
   "codemirror_mode": {
    "name": "ipython",
    "version": 3
   },
   "file_extension": ".py",
   "mimetype": "text/x-python",
   "name": "python",
   "nbconvert_exporter": "python",
   "pygments_lexer": "ipython3",
   "version": "3.8.8"
  }
 },
 "nbformat": 4,
 "nbformat_minor": 5
}
